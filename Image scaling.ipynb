{
 "cells": [
  {
   "cell_type": "code",
   "execution_count": null,
   "id": "063ab7d4",
   "metadata": {},
   "outputs": [],
   "source": [
    "# CODE TO INCREASE IMAGE SIZE (WHILE KEEPING RESOLUTION)\n",
    "# IMPLEMENTATION OF CV2s dnn_superres MODEL"
   ]
  },
  {
   "cell_type": "code",
   "execution_count": null,
   "id": "ac548dcc",
   "metadata": {},
   "outputs": [],
   "source": [
    "import os\n",
    "import json \n",
    "import requests\n",
    "import selenium\n",
    "from selenium import webdriver \n",
    "from selenium.webdriver.chrome.service import Service\n",
    "import base64\n",
    "import time\n",
    "import urllib.request\n",
    "\n",
    "from selenium.webdriver.support.wait import WebDriverWait\n",
    "from selenium.webdriver.support import expected_conditions as EC\n",
    "from selenium import webdriver\n",
    "from selenium.webdriver.common.by import By\n",
    "from selenium.webdriver.common.keys import Keys\n",
    "\n",
    "import time\n",
    "from PIL import Image\n",
    "\n",
    "from selenium.webdriver.common.keys import Keys\n",
    "\n",
    "import matplotlib.pyplot as plt\n",
    "import cv2\n",
    "from cv2 import dnn_superres\n",
    "\n",
    "import re\n"
   ]
  },
  {
   "cell_type": "code",
   "execution_count": null,
   "id": "bf28a94e",
   "metadata": {},
   "outputs": [],
   "source": [
    "# Upscale image by factor 4 while keeping resolution.\n",
    "# SPECIFIY PATH WHERE EDSR_X4.PB MODEL IS SAVED\n",
    "# SPECIFY PATH WHERE IMAGES SHOULD BE SAVED\n",
    "\n",
    "def scale_up(folder, file):\n",
    "    img = cv2.imread(f\"./{folder}/{file}\")\n",
    "    sr = cv2.dnn_superres.DnnSuperResImpl_create()\n",
    "    path = \"EDSR_x4.pb\"\n",
    "    sr.readModel(path)\n",
    "    sr.setModel(\"edsr\",4)\n",
    "    result = sr.upsample(img)\n",
    "    cv2.imwrite(f\"./{folder}/upscaled_{file}\", result)\n",
    "    "
   ]
  },
  {
   "cell_type": "code",
   "execution_count": null,
   "id": "dbfb02b0",
   "metadata": {},
   "outputs": [],
   "source": [
    "# Add padding to Thumbnail to (a) make it big enough if not already and (b) make it square.\n",
    "\n",
    "def add_margin(pil_img, size, color):\n",
    "    width, height = pil_img.size\n",
    "    new_width = size\n",
    "    new_height = size\n",
    "    \n",
    "    if (width > new_width) or (height > new_height):\n",
    "        if width > height:\n",
    "            new_width = width\n",
    "            new_height = width\n",
    "        if height >= width:\n",
    "            new_width = height\n",
    "            new_height = height\n",
    "\n",
    "    elif width > height:\n",
    "        pil_img = pil_img.resize((round(width*(300/min([width, 300]))), round(height*(300/min([width, 300])))))\n",
    "        width, height = pil_img.size\n",
    "    elif height >= width:\n",
    "        pil_img = pil_img.resize((round(width*(300/min([height, 300]))), round(height*(300/min([height, 300])))))\n",
    "        width, height = pil_img.size   \n",
    "\n",
    "    result = Image.new(pil_img.mode, (new_width, new_height), color)\n",
    "    left = (new_width - width) // 2\n",
    "    top = (new_height - height) // 2\n",
    "    result.paste(pil_img, (left, top))\n",
    "    return result"
   ]
  },
  {
   "cell_type": "code",
   "execution_count": null,
   "id": "9f82f41c",
   "metadata": {},
   "outputs": [],
   "source": [
    "def retrieve_images(finder_folder, company, n, ):\n",
    "    time.sleep(3)\n",
    "    SAVE_FOLDER = f\"Logos/{finder_folder}/{company}/\"\n",
    "    try:\n",
    "        os.mkdir(SAVE_FOLDER)\n",
    "    except:\n",
    "        pass\n",
    "    GOOGLE_IMAGES = f\"https://www.google.com/search?q={company} company logo&rlz=1C5CHFA_enGB937GB937&sxsrf=ALeKk02twWeFWJCESdRh27hZxC0iZwBS6w:1617724623722&source=lnms&tbm=isch&sa=X&ved=2ahUKEwiu0ans_envAhUkT98KHZ7CDiMQ_AUoAXoECAEQAw&biw=714&bih=732\"\n",
    "    driver.get(GOOGLE_IMAGES)\n",
    "    counter = 0\n",
    "    image_elements = driver.find_elements(By.CLASS_NAME, 'rg_i')\n",
    "    for image in image_elements[:n]: \n",
    "        if (image.get_attribute('src') is not None):\n",
    "            \n",
    "            my_image = image.get_attribute('src').split('data:image/jpeg;base64,')\n",
    "            filename = SAVE_FOLDER + 'logo'+str(counter)+'.jpeg'\n",
    "            if(len(my_image) >1): \n",
    "                with open(filename, 'wb') as f: \n",
    "                    \n",
    "                    f.write(base64.b64decode(my_image[1]))\n",
    "                \n",
    "\n",
    "            else: \n",
    "                urllib.request.urlretrieve(image.get_attribute('src'), SAVE_FOLDER + 'logo'+ str(counter)+'.jpeg')\n",
    "            counter += 1\n",
    "\n",
    "\n",
    "def re_save_images(finder_folder, company, n):\n",
    "    SAVE_FOLDER = f\"Logos/{finder_folder}/{company}/\"\n",
    "    for i in range(0, n):\n",
    "\n",
    "        scale_up(SAVE_FOLDER, 'logo'+ str(i)+'.jpeg')  \n",
    "        \n",
    "        filename = SAVE_FOLDER + 'upscaled_logo'+ str(i)+'.jpeg'\n",
    "        filename_2 = SAVE_FOLDER + 'upscaled_logo_new'+ str(i)+'.jpeg'\n",
    "        filename_3 = SAVE_FOLDER + 'upscaled_logo_new'+ str(i)+'.png'\n",
    "\n",
    "        im = Image.open(filename) \n",
    "\n",
    "        try:\n",
    "            im_new = add_margin(im, 600, (255, 255, 255))\n",
    "            im_new.save(filename_2, quality=100)\n",
    "        except OSError as error :\n",
    "            scale_up(finder_folder, name)\n",
    "            im_new = add_margin(im_new, 600, (255, 255, 255))\n",
    "            im_new.save(filename_2, quality=100)\n",
    "            im_new.save(filename_3)\n",
    "            im1 = Image.open(filename_3)\n",
    "            im1.save(filename_2)\n",
    "            os.remove(filename_3)\n",
    "            \n",
    "        os.remove(filename)\n",
    "\n",
    "        "
   ]
  },
  {
   "cell_type": "code",
   "execution_count": null,
   "id": "f7cedaf0",
   "metadata": {},
   "outputs": [],
   "source": [
    "s = \"\"\"LIST OF COMPANIES SEPERATED BY \\n\"\"\"\n",
    "\n",
    "companies = s.split('\\n')\n",
    "n = 3 # NUMBER OF IMAGES TO RETRIEVE PER COMPANY\n",
    "finder_folder = 'FOLDER TO SAVE IMAGES'"
   ]
  },
  {
   "cell_type": "code",
   "execution_count": null,
   "id": "a552c8d2",
   "metadata": {},
   "outputs": [],
   "source": [
    "\n",
    "DRIVER_PATH = 'chromedriver'\n",
    "driver = webdriver.Chrome(DRIVER_PATH)"
   ]
  },
  {
   "cell_type": "code",
   "execution_count": null,
   "id": "0e884811",
   "metadata": {},
   "outputs": [],
   "source": [
    "GOOGLE_IMAGES = f\"https://www.google.com/search?q=initate&rlz=1C5CHFA_enGB937GB937&sxsrf=ALeKk02twWeFWJCESdRh27hZxC0iZwBS6w:1617724623722&source=lnms&tbm=isch&sa=X&ved=2ahUKEwiu0ans_envAhUkT98KHZ7CDiMQ_AUoAXoECAEQAw&biw=714&bih=732\"\n",
    "driver.get(GOOGLE_IMAGES)"
   ]
  },
  {
   "cell_type": "code",
   "execution_count": null,
   "id": "d8887bef",
   "metadata": {
    "scrolled": true
   },
   "outputs": [],
   "source": [
    "for company in companies: \n",
    "    retrieve_images(finder_folder, company, n)\n",
    "    re_save_images(finder_folder, company, n)"
   ]
  },
  {
   "cell_type": "code",
   "execution_count": null,
   "id": "a1ebb14a",
   "metadata": {},
   "outputs": [],
   "source": [
    "driver.quit()"
   ]
  }
 ],
 "metadata": {
  "kernelspec": {
   "display_name": "Python 3 (ipykernel)",
   "language": "python",
   "name": "python3"
  },
  "language_info": {
   "codemirror_mode": {
    "name": "ipython",
    "version": 3
   },
   "file_extension": ".py",
   "mimetype": "text/x-python",
   "name": "python",
   "nbconvert_exporter": "python",
   "pygments_lexer": "ipython3",
   "version": "3.8.9"
  }
 },
 "nbformat": 4,
 "nbformat_minor": 5
}
